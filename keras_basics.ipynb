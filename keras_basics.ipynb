{
 "cells": [
  {
   "cell_type": "code",
   "execution_count": 8,
   "metadata": {},
   "outputs": [],
   "source": [
    "from keras.models import Sequential\n",
    "from keras.layers import Dense\n",
    "from keras.optimizers import SGD\n",
    "\n",
    "from keras.layers import Dense, Dropout, Flatten\n",
    "\n",
    "# model = Sequential()   #The simplest type of model is the Sequential model, a linear stack of layers"
   ]
  },
  {
   "cell_type": "markdown",
   "metadata": {},
   "source": [
    "# Adding layers to Model"
   ]
  },
  {
   "cell_type": "markdown",
   "metadata": {},
   "source": [
    "In the first layer,you must specify the expected input data shape.The input shape specifies the number of rows and columns in the input. <br>\n",
    "By using add, we can add layers to network and <br>\n",
    "dense layer means fully connected layer\n",
    "\n"
   ]
  },
  {
   "cell_type": "code",
   "execution_count": 26,
   "metadata": {},
   "outputs": [],
   "source": [
    "model.add(Dense(64, activation='relu', input_dim=100)) \n",
    "\n",
    "model.add(Dense(10, activation='softmax'))"
   ]
  },
  {
   "cell_type": "markdown",
   "metadata": {},
   "source": [
    "# Compiling Model"
   ]
  },
  {
   "cell_type": "markdown",
   "metadata": {},
   "source": [
    "Compiling the model takes two parameters: optimizer and loss."
   ]
  },
  {
   "cell_type": "code",
   "execution_count": 25,
   "metadata": {},
   "outputs": [],
   "source": [
    "model.compile(loss='categorical_crossentropy', \n",
    "              optimizer='sgd',\n",
    "              )  \n",
    "\n",
    "#other optimizers (optimizer='rmsprop',optimizer='adam', )"
   ]
  },
  {
   "cell_type": "markdown",
   "metadata": {},
   "source": [
    "# Training process using Keras"
   ]
  },
  {
   "cell_type": "code",
   "execution_count": 19,
   "metadata": {},
   "outputs": [],
   "source": [
    "# model.fit(x_train, y_train, epochs=5, batch_size=32)  # training the algorithm\n"
   ]
  },
  {
   "cell_type": "markdown",
   "metadata": {},
   "source": [
    "# Testing Process"
   ]
  },
  {
   "cell_type": "code",
   "execution_count": 20,
   "metadata": {},
   "outputs": [],
   "source": [
    "# loss_and_metrics = model.evaluate(x_test, y_test, batch_size=128)   # evaluating on test data"
   ]
  },
  {
   "cell_type": "markdown",
   "metadata": {},
   "source": [
    "# generating predictions"
   ]
  },
  {
   "cell_type": "markdown",
   "metadata": {},
   "source": [
    "If you want to use this model to make predictions on new data, we would use the ‘predict()’ function, passing in our new \n",
    "data."
   ]
  },
  {
   "cell_type": "code",
   "execution_count": 27,
   "metadata": {},
   "outputs": [],
   "source": [
    "# classes = model.predict(x_test, batch_size=128)   "
   ]
  },
  {
   "cell_type": "markdown",
   "metadata": {},
   "source": [
    "# Set early stopping monitor so the model stops training when it won't improve anymore"
   ]
  },
  {
   "cell_type": "code",
   "execution_count": 29,
   "metadata": {},
   "outputs": [],
   "source": [
    "from keras.callbacks import EarlyStopping      \n",
    "early_stopping_monitor = EarlyStopping(patience=3) \n",
    "\n",
    "\n",
    "#train model\n",
    "\n",
    "#model.fit(train_X, train_y, validation_split=0.2, epochs=30, callbacks=[early_stopping_monitor]) \n",
    "\n"
   ]
  },
  {
   "cell_type": "markdown",
   "metadata": {},
   "source": [
    "The validation split will randomly split the data into use for training and testing."
   ]
  },
  {
   "cell_type": "markdown",
   "metadata": {},
   "source": [
    "# Dropout"
   ]
  },
  {
   "cell_type": "markdown",
   "metadata": {},
   "source": [
    "What is Dropout? <br>\n",
    "Dropout is used to handle the problem of overfitting.\n",
    "It Prevent Neural Networks from Overfitting.<br>\n",
    "The model is trained in such a way that it does not learn interdependent set of features weights.\n",
    "It randomly select neurons and those neurons are ignored during training. They are “dropped-out” randomly. \n",
    "\n",
    "Dropout is a Regulaizatin technique.<br>\n",
    "Regularization is a technique which makes slight modifications to the learning algorithm such that the model\n",
    "generalizes better. This in turn improves the model's performance on the unseen data as well."
   ]
  },
  {
   "cell_type": "code",
   "execution_count": 32,
   "metadata": {},
   "outputs": [],
   "source": [
    "# model.add(Dropout(0.2))\n",
    "# model.add(Dense(512, activation='relu'))"
   ]
  }
 ],
 "metadata": {
  "kernelspec": {
   "display_name": "Python 3",
   "language": "python",
   "name": "python3"
  },
  "language_info": {
   "codemirror_mode": {
    "name": "ipython",
    "version": 3
   },
   "file_extension": ".py",
   "mimetype": "text/x-python",
   "name": "python",
   "nbconvert_exporter": "python",
   "pygments_lexer": "ipython3",
   "version": "3.7.3"
  }
 },
 "nbformat": 4,
 "nbformat_minor": 2
}
