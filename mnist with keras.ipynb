{
 "cells": [
  {
   "cell_type": "code",
   "execution_count": 1,
   "metadata": {},
   "outputs": [
    {
     "name": "stderr",
     "output_type": "stream",
     "text": [
      "Using TensorFlow backend.\n",
      "c:\\users\\aarohi\\appdata\\local\\programs\\python\\python37\\lib\\site-packages\\tensorflow\\python\\framework\\dtypes.py:516: FutureWarning: Passing (type, 1) or '1type' as a synonym of type is deprecated; in a future version of numpy, it will be understood as (type, (1,)) / '(1,)type'.\n",
      "  _np_qint8 = np.dtype([(\"qint8\", np.int8, 1)])\n",
      "c:\\users\\aarohi\\appdata\\local\\programs\\python\\python37\\lib\\site-packages\\tensorflow\\python\\framework\\dtypes.py:517: FutureWarning: Passing (type, 1) or '1type' as a synonym of type is deprecated; in a future version of numpy, it will be understood as (type, (1,)) / '(1,)type'.\n",
      "  _np_quint8 = np.dtype([(\"quint8\", np.uint8, 1)])\n",
      "c:\\users\\aarohi\\appdata\\local\\programs\\python\\python37\\lib\\site-packages\\tensorflow\\python\\framework\\dtypes.py:518: FutureWarning: Passing (type, 1) or '1type' as a synonym of type is deprecated; in a future version of numpy, it will be understood as (type, (1,)) / '(1,)type'.\n",
      "  _np_qint16 = np.dtype([(\"qint16\", np.int16, 1)])\n",
      "c:\\users\\aarohi\\appdata\\local\\programs\\python\\python37\\lib\\site-packages\\tensorflow\\python\\framework\\dtypes.py:519: FutureWarning: Passing (type, 1) or '1type' as a synonym of type is deprecated; in a future version of numpy, it will be understood as (type, (1,)) / '(1,)type'.\n",
      "  _np_quint16 = np.dtype([(\"quint16\", np.uint16, 1)])\n",
      "c:\\users\\aarohi\\appdata\\local\\programs\\python\\python37\\lib\\site-packages\\tensorflow\\python\\framework\\dtypes.py:520: FutureWarning: Passing (type, 1) or '1type' as a synonym of type is deprecated; in a future version of numpy, it will be understood as (type, (1,)) / '(1,)type'.\n",
      "  _np_qint32 = np.dtype([(\"qint32\", np.int32, 1)])\n",
      "c:\\users\\aarohi\\appdata\\local\\programs\\python\\python37\\lib\\site-packages\\tensorflow\\python\\framework\\dtypes.py:525: FutureWarning: Passing (type, 1) or '1type' as a synonym of type is deprecated; in a future version of numpy, it will be understood as (type, (1,)) / '(1,)type'.\n",
      "  np_resource = np.dtype([(\"resource\", np.ubyte, 1)])\n",
      "c:\\users\\aarohi\\appdata\\local\\programs\\python\\python37\\lib\\site-packages\\tensorboard\\compat\\tensorflow_stub\\dtypes.py:541: FutureWarning: Passing (type, 1) or '1type' as a synonym of type is deprecated; in a future version of numpy, it will be understood as (type, (1,)) / '(1,)type'.\n",
      "  _np_qint8 = np.dtype([(\"qint8\", np.int8, 1)])\n",
      "c:\\users\\aarohi\\appdata\\local\\programs\\python\\python37\\lib\\site-packages\\tensorboard\\compat\\tensorflow_stub\\dtypes.py:542: FutureWarning: Passing (type, 1) or '1type' as a synonym of type is deprecated; in a future version of numpy, it will be understood as (type, (1,)) / '(1,)type'.\n",
      "  _np_quint8 = np.dtype([(\"quint8\", np.uint8, 1)])\n",
      "c:\\users\\aarohi\\appdata\\local\\programs\\python\\python37\\lib\\site-packages\\tensorboard\\compat\\tensorflow_stub\\dtypes.py:543: FutureWarning: Passing (type, 1) or '1type' as a synonym of type is deprecated; in a future version of numpy, it will be understood as (type, (1,)) / '(1,)type'.\n",
      "  _np_qint16 = np.dtype([(\"qint16\", np.int16, 1)])\n",
      "c:\\users\\aarohi\\appdata\\local\\programs\\python\\python37\\lib\\site-packages\\tensorboard\\compat\\tensorflow_stub\\dtypes.py:544: FutureWarning: Passing (type, 1) or '1type' as a synonym of type is deprecated; in a future version of numpy, it will be understood as (type, (1,)) / '(1,)type'.\n",
      "  _np_quint16 = np.dtype([(\"quint16\", np.uint16, 1)])\n",
      "c:\\users\\aarohi\\appdata\\local\\programs\\python\\python37\\lib\\site-packages\\tensorboard\\compat\\tensorflow_stub\\dtypes.py:545: FutureWarning: Passing (type, 1) or '1type' as a synonym of type is deprecated; in a future version of numpy, it will be understood as (type, (1,)) / '(1,)type'.\n",
      "  _np_qint32 = np.dtype([(\"qint32\", np.int32, 1)])\n",
      "c:\\users\\aarohi\\appdata\\local\\programs\\python\\python37\\lib\\site-packages\\tensorboard\\compat\\tensorflow_stub\\dtypes.py:550: FutureWarning: Passing (type, 1) or '1type' as a synonym of type is deprecated; in a future version of numpy, it will be understood as (type, (1,)) / '(1,)type'.\n",
      "  np_resource = np.dtype([(\"resource\", np.ubyte, 1)])\n"
     ]
    }
   ],
   "source": [
    "from keras.datasets import mnist\n",
    "import keras\n",
    "from keras.models import Sequential\n",
    "from keras.layers import Dense, Dropout\n",
    "from keras.optimizers import RMSprop"
   ]
  },
  {
   "cell_type": "code",
   "execution_count": 2,
   "metadata": {},
   "outputs": [],
   "source": [
    "(x_train, y_train), (x_test, y_test) = mnist.load_data()"
   ]
  },
  {
   "cell_type": "code",
   "execution_count": 3,
   "metadata": {},
   "outputs": [
    {
     "data": {
      "text/plain": [
       "(60000, 28, 28)"
      ]
     },
     "execution_count": 3,
     "metadata": {},
     "output_type": "execute_result"
    }
   ],
   "source": [
    "x_train.shape"
   ]
  },
  {
   "cell_type": "code",
   "execution_count": 4,
   "metadata": {},
   "outputs": [
    {
     "data": {
      "text/plain": [
       "array([[0, 0, 0, ..., 0, 0, 0],\n",
       "       [0, 0, 0, ..., 0, 0, 0],\n",
       "       [0, 0, 0, ..., 0, 0, 0],\n",
       "       ...,\n",
       "       [0, 0, 0, ..., 0, 0, 0],\n",
       "       [0, 0, 0, ..., 0, 0, 0],\n",
       "       [0, 0, 0, ..., 0, 0, 0]], dtype=uint8)"
      ]
     },
     "execution_count": 4,
     "metadata": {},
     "output_type": "execute_result"
    }
   ],
   "source": [
    "x_train = x_train.reshape(60000, 784)\n",
    "x_train"
   ]
  },
  {
   "cell_type": "code",
   "execution_count": 5,
   "metadata": {},
   "outputs": [],
   "source": [
    "#import numpy as np\n",
    "#np.savetxt('aa.csv',x_train,fmt='%5d')\n"
   ]
  },
  {
   "cell_type": "code",
   "execution_count": 6,
   "metadata": {},
   "outputs": [
    {
     "data": {
      "text/plain": [
       "(10000, 28, 28)"
      ]
     },
     "execution_count": 6,
     "metadata": {},
     "output_type": "execute_result"
    }
   ],
   "source": [
    "x_test.shape"
   ]
  },
  {
   "cell_type": "code",
   "execution_count": 7,
   "metadata": {},
   "outputs": [
    {
     "data": {
      "text/plain": [
       "array([[0, 0, 0, ..., 0, 0, 0],\n",
       "       [0, 0, 0, ..., 0, 0, 0],\n",
       "       [0, 0, 0, ..., 0, 0, 0],\n",
       "       ...,\n",
       "       [0, 0, 0, ..., 0, 0, 0],\n",
       "       [0, 0, 0, ..., 0, 0, 0],\n",
       "       [0, 0, 0, ..., 0, 0, 0]], dtype=uint8)"
      ]
     },
     "execution_count": 7,
     "metadata": {},
     "output_type": "execute_result"
    }
   ],
   "source": [
    "x_test = x_test.reshape(10000, 784)\n",
    "x_test"
   ]
  },
  {
   "cell_type": "code",
   "execution_count": 8,
   "metadata": {},
   "outputs": [],
   "source": [
    "\n",
    "batch_size = 128\n",
    "num_classes = 10\n",
    "epochs = 5"
   ]
  },
  {
   "cell_type": "code",
   "execution_count": 9,
   "metadata": {},
   "outputs": [
    {
     "name": "stdout",
     "output_type": "stream",
     "text": [
      "WARNING:tensorflow:From c:\\users\\aarohi\\appdata\\local\\programs\\python\\python37\\lib\\site-packages\\keras\\backend\\tensorflow_backend.py:66: The name tf.get_default_graph is deprecated. Please use tf.compat.v1.get_default_graph instead.\n",
      "\n",
      "WARNING:tensorflow:From c:\\users\\aarohi\\appdata\\local\\programs\\python\\python37\\lib\\site-packages\\keras\\backend\\tensorflow_backend.py:541: The name tf.placeholder is deprecated. Please use tf.compat.v1.placeholder instead.\n",
      "\n",
      "WARNING:tensorflow:From c:\\users\\aarohi\\appdata\\local\\programs\\python\\python37\\lib\\site-packages\\keras\\backend\\tensorflow_backend.py:4432: The name tf.random_uniform is deprecated. Please use tf.random.uniform instead.\n",
      "\n",
      "WARNING:tensorflow:From c:\\users\\aarohi\\appdata\\local\\programs\\python\\python37\\lib\\site-packages\\keras\\backend\\tensorflow_backend.py:148: The name tf.placeholder_with_default is deprecated. Please use tf.compat.v1.placeholder_with_default instead.\n",
      "\n",
      "WARNING:tensorflow:From c:\\users\\aarohi\\appdata\\local\\programs\\python\\python37\\lib\\site-packages\\keras\\backend\\tensorflow_backend.py:3733: calling dropout (from tensorflow.python.ops.nn_ops) with keep_prob is deprecated and will be removed in a future version.\n",
      "Instructions for updating:\n",
      "Please use `rate` instead of `keep_prob`. Rate should be set to `rate = 1 - keep_prob`.\n"
     ]
    }
   ],
   "source": [
    "\n",
    "\n",
    "\n",
    "y_train = keras.utils.to_categorical(y_train, num_classes)\n",
    "y_test = keras.utils.to_categorical(y_test, num_classes)\n",
    "\n",
    "model = Sequential()\n",
    "model.add(Dense(512, activation='relu', input_shape=(784,)))\n",
    "model.add(Dropout(0.2))\n",
    "model.add(Dense(512, activation='relu'))\n",
    "model.add(Dropout(0.2))\n",
    "model.add(Dense(num_classes, activation='softmax'))\n",
    "\n",
    "\n"
   ]
  },
  {
   "cell_type": "markdown",
   "metadata": {},
   "source": [
    "What is Dropout? <br>\n",
    "Dropout is used to handle the problem of overfitting.\n",
    "It Prevent Neural Networks from Overfitting.<br>\n",
    "The model is trained in such a way that it does not learn interdependent set of features weights.\n",
    "It randomly select neurons and those neurons are ignored during training. They are “dropped-out” randomly. \n",
    "\n",
    "Dropout is a Regulaizatin technique.<br>\n",
    "Regularization is a technique which makes slight modifications to the learning algorithm such that the model\n",
    "generalizes better. This in turn improves the model's performance on the unseen data as well."
   ]
  },
  {
   "cell_type": "code",
   "execution_count": 10,
   "metadata": {
    "scrolled": true
   },
   "outputs": [
    {
     "name": "stdout",
     "output_type": "stream",
     "text": [
      "Model: \"sequential_1\"\n",
      "_________________________________________________________________\n",
      "Layer (type)                 Output Shape              Param #   \n",
      "=================================================================\n",
      "dense_1 (Dense)              (None, 512)               401920    \n",
      "_________________________________________________________________\n",
      "dropout_1 (Dropout)          (None, 512)               0         \n",
      "_________________________________________________________________\n",
      "dense_2 (Dense)              (None, 512)               262656    \n",
      "_________________________________________________________________\n",
      "dropout_2 (Dropout)          (None, 512)               0         \n",
      "_________________________________________________________________\n",
      "dense_3 (Dense)              (None, 10)                5130      \n",
      "=================================================================\n",
      "Total params: 669,706\n",
      "Trainable params: 669,706\n",
      "Non-trainable params: 0\n",
      "_________________________________________________________________\n"
     ]
    }
   ],
   "source": [
    "\n",
    "\n",
    "model.summary()\n",
    "\n"
   ]
  },
  {
   "cell_type": "markdown",
   "metadata": {},
   "source": [
    "The number of parameters is 401920  because with every hidden unit you have 784 input weights and one weight of \n",
    "connection with bias. This means that every hidden unit gives you 785 parameters. You have 512 units so it sums up to 401920.\n",
    "\n",
    "784+1*512 = 401920 <br>\n",
    "513*512 = 262656 <br>\n",
    "512+1*10 = 5130"
   ]
  },
  {
   "cell_type": "code",
   "execution_count": 11,
   "metadata": {},
   "outputs": [
    {
     "data": {
      "image/png": "[encoded data removed]",
      "text/plain": [
       "<IPython.core.display.Image object>"
      ]
     },
     "execution_count": 11,
     "metadata": {},
     "output_type": "execute_result"
    }
   ],
   "source": [
    "from keras.utils.vis_utils import plot_model\n",
    "plot_model(model, to_file='model_plot.png', show_shapes=True, show_layer_names=True)"
   ]
  },
  {
   "cell_type": "code",
   "execution_count": 12,
   "metadata": {},
   "outputs": [
    {
     "name": "stdout",
     "output_type": "stream",
     "text": [
      "WARNING:tensorflow:From c:\\users\\aarohi\\appdata\\local\\programs\\python\\python37\\lib\\site-packages\\keras\\optimizers.py:793: The name tf.train.Optimizer is deprecated. Please use tf.compat.v1.train.Optimizer instead.\n",
      "\n",
      "WARNING:tensorflow:From c:\\users\\aarohi\\appdata\\local\\programs\\python\\python37\\lib\\site-packages\\keras\\backend\\tensorflow_backend.py:3576: The name tf.log is deprecated. Please use tf.math.log instead.\n",
      "\n"
     ]
    }
   ],
   "source": [
    "model.compile(loss='categorical_crossentropy',\n",
    "              optimizer=RMSprop(),\n",
    "              metrics=['accuracy'])\n"
   ]
  },
  {
   "cell_type": "code",
   "execution_count": 13,
   "metadata": {},
   "outputs": [
    {
     "name": "stdout",
     "output_type": "stream",
     "text": [
      "WARNING:tensorflow:From c:\\users\\aarohi\\appdata\\local\\programs\\python\\python37\\lib\\site-packages\\tensorflow\\python\\ops\\math_grad.py:1250: add_dispatch_support.<locals>.wrapper (from tensorflow.python.ops.array_ops) is deprecated and will be removed in a future version.\n",
      "Instructions for updating:\n",
      "Use tf.where in 2.0, which has the same broadcast rule as np.where\n",
      "Train on 60000 samples, validate on 10000 samples\n",
      "Epoch 1/30\n",
      "60000/60000 [==============================] - 5s 85us/step - loss: 11.9325 - acc: 0.2589 - val_loss: 10.4054 - val_acc: 0.3539\n",
      "Epoch 2/30\n",
      "60000/60000 [==============================] - 4s 72us/step - loss: 9.9704 - acc: 0.3808 - val_loss: 8.6433 - val_acc: 0.4631\n",
      "Epoch 3/30\n",
      "60000/60000 [==============================] - 5s 76us/step - loss: 8.7148 - acc: 0.4587 - val_loss: 8.4622 - val_acc: 0.4748\n",
      "Epoch 4/30\n",
      "60000/60000 [==============================] - 5s 76us/step - loss: 8.6257 - acc: 0.4647 - val_loss: 9.1476 - val_acc: 0.4320\n",
      "Epoch 5/30\n",
      "60000/60000 [==============================] - 5s 86us/step - loss: 8.6356 - acc: 0.4639 - val_loss: 8.3706 - val_acc: 0.4804\n",
      "Epoch 6/30\n",
      "60000/60000 [==============================] - 5s 86us/step - loss: 8.4930 - acc: 0.4729 - val_loss: 8.8146 - val_acc: 0.4529\n",
      "Epoch 7/30\n",
      "60000/60000 [==============================] - 5s 86us/step - loss: 8.6575 - acc: 0.4626 - val_loss: 8.4646 - val_acc: 0.4748\n",
      "Epoch 8/30\n",
      "60000/60000 [==============================] - 5s 86us/step - loss: 8.4928 - acc: 0.4730 - val_loss: 8.3082 - val_acc: 0.4845\n",
      "Epoch 9/30\n",
      "60000/60000 [==============================] - 5s 86us/step - loss: 8.4720 - acc: 0.4742 - val_loss: 8.4503 - val_acc: 0.4754\n",
      "Epoch 10/30\n",
      "60000/60000 [==============================] - 5s 86us/step - loss: 8.4616 - acc: 0.4749 - val_loss: 8.4692 - val_acc: 0.4743\n",
      "Epoch 11/30\n",
      "60000/60000 [==============================] - 5s 86us/step - loss: 8.4055 - acc: 0.4784 - val_loss: 8.2978 - val_acc: 0.4851\n",
      "Epoch 12/30\n",
      "60000/60000 [==============================] - 5s 86us/step - loss: 8.4083 - acc: 0.4782 - val_loss: 8.2803 - val_acc: 0.4861\n",
      "Epoch 13/30\n",
      "60000/60000 [==============================] - 5s 87us/step - loss: 8.4869 - acc: 0.4733 - val_loss: 8.3008 - val_acc: 0.4850\n",
      "Epoch 14/30\n",
      "60000/60000 [==============================] - 5s 86us/step - loss: 8.4068 - acc: 0.4783 - val_loss: 8.2819 - val_acc: 0.4861\n",
      "Epoch 15/30\n",
      "60000/60000 [==============================] - 5s 86us/step - loss: 8.4988 - acc: 0.4727 - val_loss: 8.4084 - val_acc: 0.4783\n",
      "Epoch 16/30\n",
      "60000/60000 [==============================] - 5s 87us/step - loss: 8.3844 - acc: 0.4796 - val_loss: 7.2151 - val_acc: 0.5521\n",
      "Epoch 17/30\n",
      "60000/60000 [==============================] - 5s 86us/step - loss: 7.5801 - acc: 0.5292 - val_loss: 7.0438 - val_acc: 0.5627\n",
      "Epoch 18/30\n",
      "60000/60000 [==============================] - 5s 87us/step - loss: 7.3328 - acc: 0.5448 - val_loss: 7.1425 - val_acc: 0.5566\n",
      "Epoch 19/30\n",
      "60000/60000 [==============================] - 5s 86us/step - loss: 7.3460 - acc: 0.5439 - val_loss: 7.2738 - val_acc: 0.5484\n",
      "Epoch 20/30\n",
      "60000/60000 [==============================] - 5s 86us/step - loss: 7.1662 - acc: 0.5552 - val_loss: 7.2633 - val_acc: 0.5493\n",
      "Epoch 21/30\n",
      "60000/60000 [==============================] - 5s 86us/step - loss: 7.2878 - acc: 0.5475 - val_loss: 6.9560 - val_acc: 0.5683\n",
      "Epoch 22/30\n",
      "60000/60000 [==============================] - 5s 86us/step - loss: 7.0930 - acc: 0.5598 - val_loss: 6.9115 - val_acc: 0.5711\n",
      "Epoch 23/30\n",
      "60000/60000 [==============================] - 5s 86us/step - loss: 7.1448 - acc: 0.5565 - val_loss: 6.8336 - val_acc: 0.5760\n",
      "Epoch 24/30\n",
      "60000/60000 [==============================] - 5s 86us/step - loss: 7.0557 - acc: 0.5621 - val_loss: 6.9540 - val_acc: 0.5685\n",
      "Epoch 25/30\n",
      "60000/60000 [==============================] - 5s 86us/step - loss: 7.0937 - acc: 0.5597 - val_loss: 6.9949 - val_acc: 0.5659\n",
      "Epoch 26/30\n",
      "60000/60000 [==============================] - 5s 87us/step - loss: 7.0568 - acc: 0.5620 - val_loss: 6.9270 - val_acc: 0.5701\n",
      "Epoch 27/30\n",
      "60000/60000 [==============================] - 5s 87us/step - loss: 7.1378 - acc: 0.5570 - val_loss: 6.8656 - val_acc: 0.5739\n",
      "Epoch 28/30\n",
      "60000/60000 [==============================] - 5s 86us/step - loss: 7.0777 - acc: 0.5608 - val_loss: 6.9471 - val_acc: 0.5689\n",
      "Epoch 29/30\n",
      "60000/60000 [==============================] - 5s 86us/step - loss: 7.2269 - acc: 0.5514 - val_loss: 7.0047 - val_acc: 0.5653\n",
      "Epoch 30/30\n",
      "60000/60000 [==============================] - 5s 86us/step - loss: 7.0745 - acc: 0.5609 - val_loss: 6.8854 - val_acc: 0.5727\n"
     ]
    }
   ],
   "source": [
    "\n",
    "history = model.fit(x_train, y_train,\n",
    "                    batch_size=batch_size,\n",
    "                    epochs=30,\n",
    "                    verbose=1,\n",
    "                    validation_data=(x_test, y_test))\n"
   ]
  },
  {
   "cell_type": "code",
   "execution_count": 14,
   "metadata": {},
   "outputs": [
    {
     "name": "stdout",
     "output_type": "stream",
     "text": [
      "Test loss: 6.88544591217041\n",
      "Test accuracy: 0.5727\n"
     ]
    }
   ],
   "source": [
    "score = model.evaluate(x_test, y_test, verbose=0)\n",
    "print('Test loss:', score[0])\n",
    "print('Test accuracy:', score[1])"
   ]
  },
  {
   "cell_type": "markdown",
   "metadata": {},
   "source": []
  },
  {
   "cell_type": "code",
   "execution_count": null,
   "metadata": {},
   "outputs": [],
   "source": []
  }
 ],
 "metadata": {
  "kernelspec": {
   "display_name": "Python 3",
   "language": "python",
   "name": "python3"
  },
  "language_info": {
   "codemirror_mode": {
    "name": "ipython",
    "version": 3
   },
   "file_extension": ".py",
   "mimetype": "text/x-python",
   "name": "python",
   "nbconvert_exporter": "python",
   "pygments_lexer": "ipython3",
   "version": "3.7.3"
  }
 },
 "nbformat": 4,
 "nbformat_minor": 2
}
