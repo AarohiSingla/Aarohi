{
 "cells": [
  {
   "cell_type": "code",
   "execution_count": 1,
   "metadata": {},
   "outputs": [
    {
     "name": "stderr",
     "output_type": "stream",
     "text": [
      "c:\\users\\aarohi\\appdata\\local\\programs\\python\\python37\\lib\\site-packages\\tensorflow\\python\\framework\\dtypes.py:516: FutureWarning: Passing (type, 1) or '1type' as a synonym of type is deprecated; in a future version of numpy, it will be understood as (type, (1,)) / '(1,)type'.\n",
      "  _np_qint8 = np.dtype([(\"qint8\", np.int8, 1)])\n",
      "c:\\users\\aarohi\\appdata\\local\\programs\\python\\python37\\lib\\site-packages\\tensorflow\\python\\framework\\dtypes.py:517: FutureWarning: Passing (type, 1) or '1type' as a synonym of type is deprecated; in a future version of numpy, it will be understood as (type, (1,)) / '(1,)type'.\n",
      "  _np_quint8 = np.dtype([(\"quint8\", np.uint8, 1)])\n",
      "c:\\users\\aarohi\\appdata\\local\\programs\\python\\python37\\lib\\site-packages\\tensorflow\\python\\framework\\dtypes.py:518: FutureWarning: Passing (type, 1) or '1type' as a synonym of type is deprecated; in a future version of numpy, it will be understood as (type, (1,)) / '(1,)type'.\n",
      "  _np_qint16 = np.dtype([(\"qint16\", np.int16, 1)])\n",
      "c:\\users\\aarohi\\appdata\\local\\programs\\python\\python37\\lib\\site-packages\\tensorflow\\python\\framework\\dtypes.py:519: FutureWarning: Passing (type, 1) or '1type' as a synonym of type is deprecated; in a future version of numpy, it will be understood as (type, (1,)) / '(1,)type'.\n",
      "  _np_quint16 = np.dtype([(\"quint16\", np.uint16, 1)])\n",
      "c:\\users\\aarohi\\appdata\\local\\programs\\python\\python37\\lib\\site-packages\\tensorflow\\python\\framework\\dtypes.py:520: FutureWarning: Passing (type, 1) or '1type' as a synonym of type is deprecated; in a future version of numpy, it will be understood as (type, (1,)) / '(1,)type'.\n",
      "  _np_qint32 = np.dtype([(\"qint32\", np.int32, 1)])\n",
      "c:\\users\\aarohi\\appdata\\local\\programs\\python\\python37\\lib\\site-packages\\tensorflow\\python\\framework\\dtypes.py:525: FutureWarning: Passing (type, 1) or '1type' as a synonym of type is deprecated; in a future version of numpy, it will be understood as (type, (1,)) / '(1,)type'.\n",
      "  np_resource = np.dtype([(\"resource\", np.ubyte, 1)])\n",
      "c:\\users\\aarohi\\appdata\\local\\programs\\python\\python37\\lib\\site-packages\\tensorboard\\compat\\tensorflow_stub\\dtypes.py:541: FutureWarning: Passing (type, 1) or '1type' as a synonym of type is deprecated; in a future version of numpy, it will be understood as (type, (1,)) / '(1,)type'.\n",
      "  _np_qint8 = np.dtype([(\"qint8\", np.int8, 1)])\n",
      "c:\\users\\aarohi\\appdata\\local\\programs\\python\\python37\\lib\\site-packages\\tensorboard\\compat\\tensorflow_stub\\dtypes.py:542: FutureWarning: Passing (type, 1) or '1type' as a synonym of type is deprecated; in a future version of numpy, it will be understood as (type, (1,)) / '(1,)type'.\n",
      "  _np_quint8 = np.dtype([(\"quint8\", np.uint8, 1)])\n",
      "c:\\users\\aarohi\\appdata\\local\\programs\\python\\python37\\lib\\site-packages\\tensorboard\\compat\\tensorflow_stub\\dtypes.py:543: FutureWarning: Passing (type, 1) or '1type' as a synonym of type is deprecated; in a future version of numpy, it will be understood as (type, (1,)) / '(1,)type'.\n",
      "  _np_qint16 = np.dtype([(\"qint16\", np.int16, 1)])\n",
      "c:\\users\\aarohi\\appdata\\local\\programs\\python\\python37\\lib\\site-packages\\tensorboard\\compat\\tensorflow_stub\\dtypes.py:544: FutureWarning: Passing (type, 1) or '1type' as a synonym of type is deprecated; in a future version of numpy, it will be understood as (type, (1,)) / '(1,)type'.\n",
      "  _np_quint16 = np.dtype([(\"quint16\", np.uint16, 1)])\n",
      "c:\\users\\aarohi\\appdata\\local\\programs\\python\\python37\\lib\\site-packages\\tensorboard\\compat\\tensorflow_stub\\dtypes.py:545: FutureWarning: Passing (type, 1) or '1type' as a synonym of type is deprecated; in a future version of numpy, it will be understood as (type, (1,)) / '(1,)type'.\n",
      "  _np_qint32 = np.dtype([(\"qint32\", np.int32, 1)])\n",
      "c:\\users\\aarohi\\appdata\\local\\programs\\python\\python37\\lib\\site-packages\\tensorboard\\compat\\tensorflow_stub\\dtypes.py:550: FutureWarning: Passing (type, 1) or '1type' as a synonym of type is deprecated; in a future version of numpy, it will be understood as (type, (1,)) / '(1,)type'.\n",
      "  np_resource = np.dtype([(\"resource\", np.ubyte, 1)])\n"
     ]
    },
    {
     "name": "stdout",
     "output_type": "stream",
     "text": [
      "61\n"
     ]
    }
   ],
   "source": [
    "import matplotlib.pyplot as plt\n",
    "import tensorflow as tf\n",
    "import numpy as np\n",
    "import pandas as pd\n",
    "from sklearn.preprocessing import LabelEncoder\n",
    "from sklearn.utils import shuffle\n",
    "from sklearn.model_selection import train_test_split\n",
    "from sklearn.preprocessing import LabelEncoder , OneHotEncoder\n",
    " \n",
    "df = pd.read_csv(\"sonar.csv\")\n",
    "print(len(df.columns))"
   ]
  },
  {
   "cell_type": "code",
   "execution_count": 3,
   "metadata": {},
   "outputs": [
    {
     "data": {
      "text/plain": [
       "array([[0.0523, 0.0843, 0.0689, ..., 0.0049, 0.0052, 0.0044],\n",
       "       [0.0582, 0.1099, 0.1083, ..., 0.0164, 0.0095, 0.0078],\n",
       "       [0.0171, 0.0623, 0.0205, ..., 0.0044, 0.004 , 0.0117],\n",
       "       ...,\n",
       "       [0.0437, 0.018 , 0.0292, ..., 0.0138, 0.0077, 0.0031],\n",
       "       [0.0353, 0.049 , 0.0608, ..., 0.0079, 0.0036, 0.0048],\n",
       "       [0.0363, 0.0136, 0.0272, ..., 0.0036, 0.0061, 0.0115]])"
      ]
     },
     "execution_count": 3,
     "metadata": {},
     "output_type": "execute_result"
    }
   ],
   "source": [
    "X = df[df.columns[1:60]].values\n",
    "y=df[df.columns[60]]\n",
    "\n",
    "X"
   ]
  },
  {
   "cell_type": "code",
   "execution_count": 4,
   "metadata": {},
   "outputs": [
    {
     "data": {
      "text/plain": [
       "0      R\n",
       "1      R\n",
       "2      R\n",
       "3      R\n",
       "4      R\n",
       "      ..\n",
       "202    M\n",
       "203    M\n",
       "204    M\n",
       "205    M\n",
       "206    M\n",
       "Name: R, Length: 207, dtype: object"
      ]
     },
     "execution_count": 4,
     "metadata": {},
     "output_type": "execute_result"
    }
   ],
   "source": [
    "y"
   ]
  },
  {
   "cell_type": "code",
   "execution_count": 19,
   "metadata": {},
   "outputs": [
    {
     "name": "stdout",
     "output_type": "stream",
     "text": [
      "[1 1 1 1 1 1 1 1 1 1 1 1 1 1 1 1 1 1 1 1 1 1 1 1 1 1 1 1 1 1 1 1 1 1 1 1 1\n",
      " 1 1 1 1 1 1 1 1 1 1 1 1 1 1 1 1 1 1 1 1 1 1 1 1 1 1 1 1 1 1 1 1 1 1 1 1 1\n",
      " 1 1 1 1 1 1 1 1 1 1 1 1 1 1 1 1 1 1 1 1 1 1 0 0 0 0 0 0 0 0 0 0 0 0 0 0 0\n",
      " 0 0 0 0 0 0 0 0 0 0 0 0 0 0 0 0 0 0 0 0 0 0 0 0 0 0 0 0 0 0 0 0 0 0 0 0 0\n",
      " 0 0 0 0 0 0 0 0 0 0 0 0 0 0 0 0 0 0 0 0 0 0 0 0 0 0 0 0 0 0 0 0 0 0 0 0 0\n",
      " 0 0 0 0 0 0 0 0 0 0 0 0 0 0 0 0 0 0 0 0 0 0]\n"
     ]
    },
    {
     "name": "stderr",
     "output_type": "stream",
     "text": [
      "c:\\users\\aarohi\\appdata\\local\\programs\\python\\python37\\lib\\site-packages\\sklearn\\preprocessing\\label.py:235: DataConversionWarning: A column-vector y was passed when a 1d array was expected. Please change the shape of y to (n_samples, ), for example using ravel().\n",
      "  y = column_or_1d(y, warn=True)\n"
     ]
    }
   ],
   "source": [
    "#y=y.toarray()\n",
    "from sklearn.preprocessing import LabelEncoder\n",
    "\n",
    "# for y\n",
    "y_labelencoder = LabelEncoder ()\n",
    "y = y_labelencoder.fit_transform (y)\n",
    "print (y)"
   ]
  },
  {
   "cell_type": "code",
   "execution_count": 20,
   "metadata": {},
   "outputs": [
    {
     "name": "stderr",
     "output_type": "stream",
     "text": [
      "c:\\users\\aarohi\\appdata\\local\\programs\\python\\python37\\lib\\site-packages\\sklearn\\preprocessing\\_encoders.py:415: FutureWarning: The handling of integer data will change in version 0.22. Currently, the categories are determined based on the range [0, max(values)], while in the future they will be determined based on the unique values.\n",
      "If you want the future behaviour and silence this warning, you can specify \"categories='auto'\".\n",
      "In case you used a LabelEncoder before this OneHotEncoder to convert the categories to integers, then you can now use the OneHotEncoder directly.\n",
      "  warnings.warn(msg, FutureWarning)\n",
      "c:\\users\\aarohi\\appdata\\local\\programs\\python\\python37\\lib\\site-packages\\sklearn\\preprocessing\\_encoders.py:451: DeprecationWarning: The 'categorical_features' keyword is deprecated in version 0.20 and will be removed in 0.22. You can use the ColumnTransformer instead.\n",
      "  \"use the ColumnTransformer instead.\", DeprecationWarning)\n"
     ]
    },
    {
     "data": {
      "text/plain": [
       "array([[0., 1.],\n",
       "       [0., 1.],\n",
       "       [0., 1.],\n",
       "       [0., 1.],\n",
       "       [0., 1.],\n",
       "       [0., 1.],\n",
       "       [0., 1.],\n",
       "       [0., 1.],\n",
       "       [0., 1.],\n",
       "       [0., 1.],\n",
       "       [0., 1.],\n",
       "       [0., 1.],\n",
       "       [0., 1.],\n",
       "       [0., 1.],\n",
       "       [0., 1.],\n",
       "       [0., 1.],\n",
       "       [0., 1.],\n",
       "       [0., 1.],\n",
       "       [0., 1.],\n",
       "       [0., 1.],\n",
       "       [0., 1.],\n",
       "       [0., 1.],\n",
       "       [0., 1.],\n",
       "       [0., 1.],\n",
       "       [0., 1.],\n",
       "       [0., 1.],\n",
       "       [0., 1.],\n",
       "       [0., 1.],\n",
       "       [0., 1.],\n",
       "       [0., 1.],\n",
       "       [0., 1.],\n",
       "       [0., 1.],\n",
       "       [0., 1.],\n",
       "       [0., 1.],\n",
       "       [0., 1.],\n",
       "       [0., 1.],\n",
       "       [0., 1.],\n",
       "       [0., 1.],\n",
       "       [0., 1.],\n",
       "       [0., 1.],\n",
       "       [0., 1.],\n",
       "       [0., 1.],\n",
       "       [0., 1.],\n",
       "       [0., 1.],\n",
       "       [0., 1.],\n",
       "       [0., 1.],\n",
       "       [0., 1.],\n",
       "       [0., 1.],\n",
       "       [0., 1.],\n",
       "       [0., 1.],\n",
       "       [0., 1.],\n",
       "       [0., 1.],\n",
       "       [0., 1.],\n",
       "       [0., 1.],\n",
       "       [0., 1.],\n",
       "       [0., 1.],\n",
       "       [0., 1.],\n",
       "       [0., 1.],\n",
       "       [0., 1.],\n",
       "       [0., 1.],\n",
       "       [0., 1.],\n",
       "       [0., 1.],\n",
       "       [0., 1.],\n",
       "       [0., 1.],\n",
       "       [0., 1.],\n",
       "       [0., 1.],\n",
       "       [0., 1.],\n",
       "       [0., 1.],\n",
       "       [0., 1.],\n",
       "       [0., 1.],\n",
       "       [0., 1.],\n",
       "       [0., 1.],\n",
       "       [0., 1.],\n",
       "       [0., 1.],\n",
       "       [0., 1.],\n",
       "       [0., 1.],\n",
       "       [0., 1.],\n",
       "       [0., 1.],\n",
       "       [0., 1.],\n",
       "       [0., 1.],\n",
       "       [0., 1.],\n",
       "       [0., 1.],\n",
       "       [0., 1.],\n",
       "       [0., 1.],\n",
       "       [0., 1.],\n",
       "       [0., 1.],\n",
       "       [0., 1.],\n",
       "       [0., 1.],\n",
       "       [0., 1.],\n",
       "       [0., 1.],\n",
       "       [0., 1.],\n",
       "       [0., 1.],\n",
       "       [0., 1.],\n",
       "       [0., 1.],\n",
       "       [0., 1.],\n",
       "       [0., 1.],\n",
       "       [1., 0.],\n",
       "       [1., 0.],\n",
       "       [1., 0.],\n",
       "       [1., 0.],\n",
       "       [1., 0.],\n",
       "       [1., 0.],\n",
       "       [1., 0.],\n",
       "       [1., 0.],\n",
       "       [1., 0.],\n",
       "       [1., 0.],\n",
       "       [1., 0.],\n",
       "       [1., 0.],\n",
       "       [1., 0.],\n",
       "       [1., 0.],\n",
       "       [1., 0.],\n",
       "       [1., 0.],\n",
       "       [1., 0.],\n",
       "       [1., 0.],\n",
       "       [1., 0.],\n",
       "       [1., 0.],\n",
       "       [1., 0.],\n",
       "       [1., 0.],\n",
       "       [1., 0.],\n",
       "       [1., 0.],\n",
       "       [1., 0.],\n",
       "       [1., 0.],\n",
       "       [1., 0.],\n",
       "       [1., 0.],\n",
       "       [1., 0.],\n",
       "       [1., 0.],\n",
       "       [1., 0.],\n",
       "       [1., 0.],\n",
       "       [1., 0.],\n",
       "       [1., 0.],\n",
       "       [1., 0.],\n",
       "       [1., 0.],\n",
       "       [1., 0.],\n",
       "       [1., 0.],\n",
       "       [1., 0.],\n",
       "       [1., 0.],\n",
       "       [1., 0.],\n",
       "       [1., 0.],\n",
       "       [1., 0.],\n",
       "       [1., 0.],\n",
       "       [1., 0.],\n",
       "       [1., 0.],\n",
       "       [1., 0.],\n",
       "       [1., 0.],\n",
       "       [1., 0.],\n",
       "       [1., 0.],\n",
       "       [1., 0.],\n",
       "       [1., 0.],\n",
       "       [1., 0.],\n",
       "       [1., 0.],\n",
       "       [1., 0.],\n",
       "       [1., 0.],\n",
       "       [1., 0.],\n",
       "       [1., 0.],\n",
       "       [1., 0.],\n",
       "       [1., 0.],\n",
       "       [1., 0.],\n",
       "       [1., 0.],\n",
       "       [1., 0.],\n",
       "       [1., 0.],\n",
       "       [1., 0.],\n",
       "       [1., 0.],\n",
       "       [1., 0.],\n",
       "       [1., 0.],\n",
       "       [1., 0.],\n",
       "       [1., 0.],\n",
       "       [1., 0.],\n",
       "       [1., 0.],\n",
       "       [1., 0.],\n",
       "       [1., 0.],\n",
       "       [1., 0.],\n",
       "       [1., 0.],\n",
       "       [1., 0.],\n",
       "       [1., 0.],\n",
       "       [1., 0.],\n",
       "       [1., 0.],\n",
       "       [1., 0.],\n",
       "       [1., 0.],\n",
       "       [1., 0.],\n",
       "       [1., 0.],\n",
       "       [1., 0.],\n",
       "       [1., 0.],\n",
       "       [1., 0.],\n",
       "       [1., 0.],\n",
       "       [1., 0.],\n",
       "       [1., 0.],\n",
       "       [1., 0.],\n",
       "       [1., 0.],\n",
       "       [1., 0.],\n",
       "       [1., 0.],\n",
       "       [1., 0.],\n",
       "       [1., 0.],\n",
       "       [1., 0.],\n",
       "       [1., 0.],\n",
       "       [1., 0.],\n",
       "       [1., 0.],\n",
       "       [1., 0.],\n",
       "       [1., 0.],\n",
       "       [1., 0.],\n",
       "       [1., 0.],\n",
       "       [1., 0.],\n",
       "       [1., 0.],\n",
       "       [1., 0.],\n",
       "       [1., 0.],\n",
       "       [1., 0.],\n",
       "       [1., 0.],\n",
       "       [1., 0.]])"
      ]
     },
     "execution_count": 20,
     "metadata": {},
     "output_type": "execute_result"
    }
   ],
   "source": [
    "#y=y.values.reshape(-1,1)\n",
    "y=y.reshape(-1,1)\n",
    "onehotencoder = OneHotEncoder(categorical_features=[0])  #Converted  scalar output into vector output where the correct class will be 1 and other will be 0\n",
    "\n",
    "Y= onehotencoder.fit_transform(y).toarray()\n",
    "Y"
   ]
  },
  {
   "cell_type": "code",
   "execution_count": 21,
   "metadata": {},
   "outputs": [
    {
     "data": {
      "text/plain": [
       "array([[ 0.42042142,  1.0529498 ,  0.31950069, ..., -0.4709383 ,\n",
       "        -0.44268846, -0.42246083],\n",
       "       [ 0.59942737,  1.71912994,  1.16735119, ...,  1.30656071,\n",
       "         0.25299833,  0.25405324],\n",
       "       [-0.64754631,  0.48045125, -0.72202124, ..., -0.54822087,\n",
       "        -0.63683361,  1.03005467],\n",
       "       ...,\n",
       "       [ 0.15949749, -0.67235266, -0.53480552, ...,  0.90469137,\n",
       "        -0.0382194 , -0.68112798],\n",
       "       [-0.09535845,  0.13434985,  0.1451964 , ..., -0.00724291,\n",
       "        -0.70154866, -0.34287094],\n",
       "       [-0.06501846, -0.78685237, -0.57784362, ..., -0.67187297,\n",
       "        -0.2970796 ,  0.99025973]])"
      ]
     },
     "execution_count": 21,
     "metadata": {},
     "output_type": "execute_result"
    }
   ],
   "source": [
    "#from sklearn.preprocessing import StandardScaler\n",
    "from sklearn.preprocessing import StandardScaler\n",
    "scaler = StandardScaler()\n",
    "X = scaler.fit_transform(X)\n",
    "\n",
    "X"
   ]
  },
  {
   "cell_type": "code",
   "execution_count": 22,
   "metadata": {},
   "outputs": [
    {
     "name": "stdout",
     "output_type": "stream",
     "text": [
      "(165, 59)\n",
      "(165, 2)\n",
      "(42, 59)\n",
      "(42, 2)\n"
     ]
    }
   ],
   "source": [
    "#Transform the data in training and testing\n",
    "#X,Y = shuffle(X,Y,random_state=1)\n",
    "train_x,test_x,train_y,test_y = train_test_split(X,Y,test_size=0.20, random_state=42)\n",
    "\n",
    "#print the shape of the train and test data values\n",
    "print(train_x.shape)\n",
    "print(train_y.shape)\n",
    "print(test_x.shape)\n",
    "print(test_y.shape)\n"
   ]
  },
  {
   "cell_type": "code",
   "execution_count": 24,
   "metadata": {},
   "outputs": [],
   "source": [
    "learning_rate = 0.1\n",
    "training_epochs = 100\n",
    "cost_history = np.empty(shape=[1],dtype=float)"
   ]
  },
  {
   "cell_type": "code",
   "execution_count": 25,
   "metadata": {},
   "outputs": [],
   "source": [
    "\n",
    "n_class = 2  # carrying output class. We have 2 output classes in this dataset\n",
    "\n",
    "x = tf.placeholder(tf.float32,[None,59])  \n",
    "\n",
    "W = tf.Variable(tf.zeros([59,n_class]))  \n",
    " \n",
    "b = tf.Variable(tf.zeros([n_class])) "
   ]
  },
  {
   "cell_type": "code",
   "execution_count": 26,
   "metadata": {},
   "outputs": [],
   "source": [
    "#initialize all variables.\n",
    "init = tf.global_variables_initializer()\n"
   ]
  },
  {
   "cell_type": "code",
   "execution_count": 28,
   "metadata": {},
   "outputs": [],
   "source": [
    "y_ = tf.placeholder(tf.float32,[None,n_class])  # actual y\n",
    "y = tf.nn.softmax(tf.matmul(x, W)+ b)  # predicted y\n",
    "cost_function = tf.reduce_mean(-tf.reduce_sum((y_ * tf.log(y)),reduction_indices=[1])) # calculating rmse\n",
    "training_step = tf.train.GradientDescentOptimizer(learning_rate).minimize(cost_function)\n"
   ]
  },
  {
   "cell_type": "code",
   "execution_count": 29,
   "metadata": {},
   "outputs": [],
   "source": [
    "#initialize the session\n",
    "sess = tf.Session()\n",
    "sess.run(init)\n",
    "mse_history = []\n"
   ]
  },
  {
   "cell_type": "code",
   "execution_count": 30,
   "metadata": {},
   "outputs": [
    {
     "name": "stdout",
     "output_type": "stream",
     "text": [
      "epoch :  0  -  cost:  0.58424264\n",
      "epoch :  1  -  cost:  0.5345347\n",
      "epoch :  2  -  cost:  0.5036443\n",
      "epoch :  3  -  cost:  0.4815653\n",
      "epoch :  4  -  cost:  0.46456566\n",
      "epoch :  5  -  cost:  0.45084584\n",
      "epoch :  6  -  cost:  0.43940005\n",
      "epoch :  7  -  cost:  0.42961136\n",
      "epoch :  8  -  cost:  0.42107734\n",
      "epoch :  9  -  cost:  0.41352275\n",
      "epoch :  10  -  cost:  0.40675205\n",
      "epoch :  11  -  cost:  0.4006221\n",
      "epoch :  12  -  cost:  0.39502516\n",
      "epoch :  13  -  cost:  0.38987833\n",
      "epoch :  14  -  cost:  0.3851165\n",
      "epoch :  15  -  cost:  0.38068777\n",
      "epoch :  16  -  cost:  0.37654987\n",
      "epoch :  17  -  cost:  0.3726682\n",
      "epoch :  18  -  cost:  0.36901385\n",
      "epoch :  19  -  cost:  0.3655625\n",
      "epoch :  20  -  cost:  0.3622935\n",
      "epoch :  21  -  cost:  0.35918927\n",
      "epoch :  22  -  cost:  0.35623446\n",
      "epoch :  23  -  cost:  0.35341588\n",
      "epoch :  24  -  cost:  0.35072184\n",
      "epoch :  25  -  cost:  0.34814215\n",
      "epoch :  26  -  cost:  0.3456678\n",
      "epoch :  27  -  cost:  0.34329084\n",
      "epoch :  28  -  cost:  0.34100398\n",
      "epoch :  29  -  cost:  0.33880088\n",
      "epoch :  30  -  cost:  0.3366758\n",
      "epoch :  31  -  cost:  0.33462346\n",
      "epoch :  32  -  cost:  0.33263922\n",
      "epoch :  33  -  cost:  0.3307188\n",
      "epoch :  34  -  cost:  0.32885826\n",
      "epoch :  35  -  cost:  0.32705405\n",
      "epoch :  36  -  cost:  0.325303\n",
      "epoch :  37  -  cost:  0.32360208\n",
      "epoch :  38  -  cost:  0.32194853\n",
      "epoch :  39  -  cost:  0.32033983\n",
      "epoch :  40  -  cost:  0.3187736\n",
      "epoch :  41  -  cost:  0.3172478\n",
      "epoch :  42  -  cost:  0.31576037\n",
      "epoch :  43  -  cost:  0.31430942\n",
      "epoch :  44  -  cost:  0.31289327\n",
      "epoch :  45  -  cost:  0.31151032\n",
      "epoch :  46  -  cost:  0.31015903\n",
      "epoch :  47  -  cost:  0.30883804\n",
      "epoch :  48  -  cost:  0.30754605\n",
      "epoch :  49  -  cost:  0.30628178\n",
      "epoch :  50  -  cost:  0.30504414\n",
      "epoch :  51  -  cost:  0.30383196\n",
      "epoch :  52  -  cost:  0.30264437\n",
      "epoch :  53  -  cost:  0.30148032\n",
      "epoch :  54  -  cost:  0.3003389\n",
      "epoch :  55  -  cost:  0.29921928\n",
      "epoch :  56  -  cost:  0.29812068\n",
      "epoch :  57  -  cost:  0.29704228\n",
      "epoch :  58  -  cost:  0.29598346\n",
      "epoch :  59  -  cost:  0.29494348\n",
      "epoch :  60  -  cost:  0.29392168\n",
      "epoch :  61  -  cost:  0.29291746\n",
      "epoch :  62  -  cost:  0.2919303\n",
      "epoch :  63  -  cost:  0.2909595\n",
      "epoch :  64  -  cost:  0.29000473\n",
      "epoch :  65  -  cost:  0.28906533\n",
      "epoch :  66  -  cost:  0.2881409\n",
      "epoch :  67  -  cost:  0.28723094\n",
      "epoch :  68  -  cost:  0.2863351\n",
      "epoch :  69  -  cost:  0.28545284\n",
      "epoch :  70  -  cost:  0.28458387\n",
      "epoch :  71  -  cost:  0.28372774\n",
      "epoch :  72  -  cost:  0.28288418\n",
      "epoch :  73  -  cost:  0.2820527\n",
      "epoch :  74  -  cost:  0.28123307\n",
      "epoch :  75  -  cost:  0.28042495\n",
      "epoch :  76  -  cost:  0.27962807\n",
      "epoch :  77  -  cost:  0.27884206\n",
      "epoch :  78  -  cost:  0.27806666\n",
      "epoch :  79  -  cost:  0.27730164\n",
      "epoch :  80  -  cost:  0.27654663\n",
      "epoch :  81  -  cost:  0.2758015\n",
      "epoch :  82  -  cost:  0.275066\n",
      "epoch :  83  -  cost:  0.2743398\n",
      "epoch :  84  -  cost:  0.27362272\n",
      "epoch :  85  -  cost:  0.27291462\n",
      "epoch :  86  -  cost:  0.2722152\n",
      "epoch :  87  -  cost:  0.27152428\n",
      "epoch :  88  -  cost:  0.2708417\n",
      "epoch :  89  -  cost:  0.27016717\n",
      "epoch :  90  -  cost:  0.2695006\n",
      "epoch :  91  -  cost:  0.26884183\n",
      "epoch :  92  -  cost:  0.26819062\n",
      "epoch :  93  -  cost:  0.26754683\n",
      "epoch :  94  -  cost:  0.26691034\n",
      "epoch :  95  -  cost:  0.26628095\n",
      "epoch :  96  -  cost:  0.26565853\n",
      "epoch :  97  -  cost:  0.2650429\n",
      "epoch :  98  -  cost:  0.26443395\n",
      "epoch :  99  -  cost:  0.2638316\n"
     ]
    }
   ],
   "source": [
    "#calculate the cost for each epoch\n",
    "for epoch in range(training_epochs):\n",
    "    sess.run(training_step,feed_dict={x:train_x,y_:train_y})\n",
    "    cost = sess.run(cost_function,feed_dict={x: train_x,y_: train_y})\n",
    "    cost_history = np.append(cost_history,cost)\n",
    "    pred_y = sess.run(y, feed_dict={x: test_x})\n",
    "    print('epoch : ', epoch,  ' - ', 'cost: ', cost)\n",
    "\n",
    "\n",
    "    mse = tf.reduce_mean(tf.square(pred_y - test_y))\n",
    "    mse_history.append(sess.run(mse))"
   ]
  },
  {
   "cell_type": "code",
   "execution_count": 31,
   "metadata": {},
   "outputs": [
    {
     "name": "stdout",
     "output_type": "stream",
     "text": [
      "MSE: [0.2146376618551542, 0.20140558198640385, 0.19433945438075623, 0.1898605392561889, 0.18678085009431056, 0.1845636169032368, 0.1829161810342534, 0.18166110968581536, 0.18068407656693866, 0.17990852721822104, 0.17928182168259343, 0.17876699587685177, 0.17833768816361073, 0.17797476493292808, 0.17766421863055895, 0.17739564403558888, 0.1771612335217535, 0.17695507188761733, 0.1767726326705727, 0.1766104177066175, 0.1764657087270537, 0.17633636505546985, 0.17622068819859354, 0.17611733045733777, 0.1760251816511418, 0.17594335104915385, 0.17587111208094716, 0.175807828305314, 0.17575299745237866, 0.17570618699914986, 0.17566700085954215, 0.17563511390526562, 0.17561022816877012, 0.17559208796405315, 0.17558045079691242, 0.17557509437965055, 0.17557581558595534, 0.17558243727734013, 0.17559476364281618, 0.17561262723478427, 0.1756358657822752, 0.17566432124725676, 0.17569783132101288, 0.17573626720815516, 0.17577945325338307, 0.17582726546039038, 0.17587955276702955, 0.175936177852276, 0.1759969953386482, 0.17606186582637298, 0.1761306649860995, 0.17620326243851286, 0.17627950104714613, 0.17635926279407338, 0.1764424291715271, 0.17652884933528146, 0.1766184124555649, 0.17671098528608953, 0.17680643754301048, 0.17690465269119063, 0.1770055124814951, 0.17710888710990408, 0.17721465785445406, 0.17732271711780154, 0.17743294143123306, 0.17754522572506384, 0.17765945282687495, 0.17777550863193387, 0.17789329313506913, 0.17801270182882395, 0.17813362089961493, 0.17825595395961397, 0.17837961260562463, 0.1785044843483097, 0.1786304860035555, 0.17875752263368702, 0.17888550260413463, 0.17901433222939306, 0.17914393948023533, 0.1792742288302547, 0.1794051202051128, 0.17953654450286038, 0.17966841638557626, 0.17980066540232695, 0.17993322472838982, 0.18006601314773138, 0.1801989860570206, 0.1803320483362088, 0.1804651649871292, 0.18059826697119122, 0.18073128252013598, 0.18086417237061175, 0.18099686517101385, 0.18112933264644548, 0.1812615165274858, 0.18139335866056827, 0.1815248333488698, 0.18165586997862687, 0.18178645455096626, 0.18191653728843024]\n"
     ]
    },
    {
     "data": {
      "image/png": "[encoded data removed]",
      "text/plain": [
       "<Figure size 432x288 with 1 Axes>"
      ]
     },
     "metadata": {
      "needs_background": "light"
     },
     "output_type": "display_data"
    }
   ],
   "source": [
    "#print the final mean square error\n",
    "print(\"MSE:\",mse_history)\n",
    "plt.plot(mse_history, 'ro-')\n",
    "plt.show()\n",
    "\n"
   ]
  },
  {
   "cell_type": "code",
   "execution_count": 32,
   "metadata": {},
   "outputs": [
    {
     "name": "stdout",
     "output_type": "stream",
     "text": [
      "Accuracy:  0.7619048\n"
     ]
    }
   ],
   "source": [
    "\n",
    "correct_prediction = tf.equal(tf.argmax(y,1), tf.argmax(y_,1))\n",
    "accuracy = tf.reduce_mean(tf.cast(correct_prediction, tf.float32))\n",
    "print(\"Accuracy: \",(sess.run(accuracy, feed_dict={x: test_x, y_: test_y})))\n",
    "\n"
   ]
  },
  {
   "cell_type": "code",
   "execution_count": 33,
   "metadata": {},
   "outputs": [
    {
     "data": {
      "image/png": "[encoded data removed]",
      "text/plain": [
       "<Figure size 432x288 with 1 Axes>"
      ]
     },
     "metadata": {
      "needs_background": "light"
     },
     "output_type": "display_data"
    }
   ],
   "source": [
    "\n",
    "plt.plot(range(len(cost_history)),cost_history)\n",
    "plt.axis([0,training_epochs,0,np.max(cost_history)])\n",
    "plt.show()\n"
   ]
  }
 ],
 "metadata": {
  "kernelspec": {
   "display_name": "Python 3",
   "language": "python",
   "name": "python3"
  },
  "language_info": {
   "codemirror_mode": {
    "name": "ipython",
    "version": 3
   },
   "file_extension": ".py",
   "mimetype": "text/x-python",
   "name": "python",
   "nbconvert_exporter": "python",
   "pygments_lexer": "ipython3",
   "version": "3.7.3"
  }
 },
 "nbformat": 4,
 "nbformat_minor": 2
}
