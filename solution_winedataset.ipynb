{
 "cells": [
  {
   "cell_type": "code",
   "execution_count": 37,
   "metadata": {},
   "outputs": [
    {
     "name": "stdout",
     "output_type": "stream",
     "text": [
      "14\n"
     ]
    }
   ],
   "source": [
    "import matplotlib.pyplot as plt\n",
    "import tensorflow as tf\n",
    "import numpy as np\n",
    "import pandas as pd\n",
    "from sklearn.preprocessing import LabelEncoder\n",
    "from sklearn.utils import shuffle\n",
    "from sklearn.model_selection import train_test_split\n",
    "from sklearn.preprocessing import LabelEncoder , OneHotEncoder\n",
    " \n",
    "df = pd.read_csv(\"wine.csv\")\n",
    "print(len(df.columns))\n"
   ]
  },
  {
   "cell_type": "code",
   "execution_count": 38,
   "metadata": {},
   "outputs": [
    {
     "data": {
      "text/plain": [
       "array([1, 1, 1, 1, 1, 1, 1, 1, 1, 1, 1, 1, 1, 1, 1, 1, 1, 1, 1, 1, 1, 1,\n",
       "       1, 1, 1, 1, 1, 1, 1, 1, 1, 1, 1, 1, 1, 1, 1, 1, 1, 1, 1, 1, 1, 1,\n",
       "       1, 1, 1, 1, 1, 1, 1, 1, 1, 1, 1, 1, 1, 1, 1, 2, 2, 2, 2, 2, 2, 2,\n",
       "       2, 2, 2, 2, 2, 2, 2, 2, 2, 2, 2, 2, 2, 2, 2, 2, 2, 2, 2, 2, 2, 2,\n",
       "       2, 2, 2, 2, 2, 2, 2, 2, 2, 2, 2, 2, 2, 2, 2, 2, 2, 2, 2, 2, 2, 2,\n",
       "       2, 2, 2, 2, 2, 2, 2, 2, 2, 2, 2, 2, 2, 2, 2, 2, 2, 2, 2, 2, 3, 3,\n",
       "       3, 3, 3, 3, 3, 3, 3, 3, 3, 3, 3, 3, 3, 3, 3, 3, 3, 3, 3, 3, 3, 3,\n",
       "       3, 3, 3, 3, 3, 3, 3, 3, 3, 3, 3, 3, 3, 3, 3, 3, 3, 3, 3, 3, 3, 3,\n",
       "       3, 3], dtype=int64)"
      ]
     },
     "execution_count": 38,
     "metadata": {},
     "output_type": "execute_result"
    }
   ],
   "source": [
    "X = df[df.columns[1:13]].values\n",
    "y = df[\"Wine\"].values\n",
    "y\n",
    "\n"
   ]
  },
  {
   "cell_type": "code",
   "execution_count": 39,
   "metadata": {},
   "outputs": [
    {
     "data": {
      "text/plain": [
       "array([[14.23,  1.71,  2.43, ...,  5.64,  1.04,  3.92],\n",
       "       [13.2 ,  1.78,  2.14, ...,  4.38,  1.05,  3.4 ],\n",
       "       [13.16,  2.36,  2.67, ...,  5.68,  1.03,  3.17],\n",
       "       ...,\n",
       "       [13.27,  4.28,  2.26, ..., 10.2 ,  0.59,  1.56],\n",
       "       [13.17,  2.59,  2.37, ...,  9.3 ,  0.6 ,  1.62],\n",
       "       [14.13,  4.1 ,  2.74, ...,  9.2 ,  0.61,  1.6 ]])"
      ]
     },
     "execution_count": 39,
     "metadata": {},
     "output_type": "execute_result"
    }
   ],
   "source": [
    "X"
   ]
  },
  {
   "cell_type": "code",
   "execution_count": 40,
   "metadata": {},
   "outputs": [
    {
     "data": {
      "text/plain": [
       "2    71\n",
       "1    59\n",
       "3    48\n",
       "Name: Wine, dtype: int64"
      ]
     },
     "execution_count": 40,
     "metadata": {},
     "output_type": "execute_result"
    }
   ],
   "source": [
    "yy=df[\"Wine\"]\n",
    "yy.value_counts()   # 3 different classes are present in wine column"
   ]
  },
  {
   "cell_type": "code",
   "execution_count": 41,
   "metadata": {},
   "outputs": [
    {
     "name": "stderr",
     "output_type": "stream",
     "text": [
      "c:\\users\\aarohi\\appdata\\local\\programs\\python\\python37\\lib\\site-packages\\sklearn\\preprocessing\\_encoders.py:415: FutureWarning: The handling of integer data will change in version 0.22. Currently, the categories are determined based on the range [0, max(values)], while in the future they will be determined based on the unique values.\n",
      "If you want the future behaviour and silence this warning, you can specify \"categories='auto'\".\n",
      "In case you used a LabelEncoder before this OneHotEncoder to convert the categories to integers, then you can now use the OneHotEncoder directly.\n",
      "  warnings.warn(msg, FutureWarning)\n",
      "c:\\users\\aarohi\\appdata\\local\\programs\\python\\python37\\lib\\site-packages\\sklearn\\preprocessing\\_encoders.py:451: DeprecationWarning: The 'categorical_features' keyword is deprecated in version 0.20 and will be removed in 0.22. You can use the ColumnTransformer instead.\n",
      "  \"use the ColumnTransformer instead.\", DeprecationWarning)\n"
     ]
    },
    {
     "data": {
      "text/plain": [
       "array([[1., 0., 0.],\n",
       "       [1., 0., 0.],\n",
       "       [1., 0., 0.],\n",
       "       [1., 0., 0.],\n",
       "       [1., 0., 0.],\n",
       "       [1., 0., 0.],\n",
       "       [1., 0., 0.],\n",
       "       [1., 0., 0.],\n",
       "       [1., 0., 0.],\n",
       "       [1., 0., 0.],\n",
       "       [1., 0., 0.],\n",
       "       [1., 0., 0.],\n",
       "       [1., 0., 0.],\n",
       "       [1., 0., 0.],\n",
       "       [1., 0., 0.],\n",
       "       [1., 0., 0.],\n",
       "       [1., 0., 0.],\n",
       "       [1., 0., 0.],\n",
       "       [1., 0., 0.],\n",
       "       [1., 0., 0.],\n",
       "       [1., 0., 0.],\n",
       "       [1., 0., 0.],\n",
       "       [1., 0., 0.],\n",
       "       [1., 0., 0.],\n",
       "       [1., 0., 0.],\n",
       "       [1., 0., 0.],\n",
       "       [1., 0., 0.],\n",
       "       [1., 0., 0.],\n",
       "       [1., 0., 0.],\n",
       "       [1., 0., 0.],\n",
       "       [1., 0., 0.],\n",
       "       [1., 0., 0.],\n",
       "       [1., 0., 0.],\n",
       "       [1., 0., 0.],\n",
       "       [1., 0., 0.],\n",
       "       [1., 0., 0.],\n",
       "       [1., 0., 0.],\n",
       "       [1., 0., 0.],\n",
       "       [1., 0., 0.],\n",
       "       [1., 0., 0.],\n",
       "       [1., 0., 0.],\n",
       "       [1., 0., 0.],\n",
       "       [1., 0., 0.],\n",
       "       [1., 0., 0.],\n",
       "       [1., 0., 0.],\n",
       "       [1., 0., 0.],\n",
       "       [1., 0., 0.],\n",
       "       [1., 0., 0.],\n",
       "       [1., 0., 0.],\n",
       "       [1., 0., 0.],\n",
       "       [1., 0., 0.],\n",
       "       [1., 0., 0.],\n",
       "       [1., 0., 0.],\n",
       "       [1., 0., 0.],\n",
       "       [1., 0., 0.],\n",
       "       [1., 0., 0.],\n",
       "       [1., 0., 0.],\n",
       "       [1., 0., 0.],\n",
       "       [1., 0., 0.],\n",
       "       [0., 1., 0.],\n",
       "       [0., 1., 0.],\n",
       "       [0., 1., 0.],\n",
       "       [0., 1., 0.],\n",
       "       [0., 1., 0.],\n",
       "       [0., 1., 0.],\n",
       "       [0., 1., 0.],\n",
       "       [0., 1., 0.],\n",
       "       [0., 1., 0.],\n",
       "       [0., 1., 0.],\n",
       "       [0., 1., 0.],\n",
       "       [0., 1., 0.],\n",
       "       [0., 1., 0.],\n",
       "       [0., 1., 0.],\n",
       "       [0., 1., 0.],\n",
       "       [0., 1., 0.],\n",
       "       [0., 1., 0.],\n",
       "       [0., 1., 0.],\n",
       "       [0., 1., 0.],\n",
       "       [0., 1., 0.],\n",
       "       [0., 1., 0.],\n",
       "       [0., 1., 0.],\n",
       "       [0., 1., 0.],\n",
       "       [0., 1., 0.],\n",
       "       [0., 1., 0.],\n",
       "       [0., 1., 0.],\n",
       "       [0., 1., 0.],\n",
       "       [0., 1., 0.],\n",
       "       [0., 1., 0.],\n",
       "       [0., 1., 0.],\n",
       "       [0., 1., 0.],\n",
       "       [0., 1., 0.],\n",
       "       [0., 1., 0.],\n",
       "       [0., 1., 0.],\n",
       "       [0., 1., 0.],\n",
       "       [0., 1., 0.],\n",
       "       [0., 1., 0.],\n",
       "       [0., 1., 0.],\n",
       "       [0., 1., 0.],\n",
       "       [0., 1., 0.],\n",
       "       [0., 1., 0.],\n",
       "       [0., 1., 0.],\n",
       "       [0., 1., 0.],\n",
       "       [0., 1., 0.],\n",
       "       [0., 1., 0.],\n",
       "       [0., 1., 0.],\n",
       "       [0., 1., 0.],\n",
       "       [0., 1., 0.],\n",
       "       [0., 1., 0.],\n",
       "       [0., 1., 0.],\n",
       "       [0., 1., 0.],\n",
       "       [0., 1., 0.],\n",
       "       [0., 1., 0.],\n",
       "       [0., 1., 0.],\n",
       "       [0., 1., 0.],\n",
       "       [0., 1., 0.],\n",
       "       [0., 1., 0.],\n",
       "       [0., 1., 0.],\n",
       "       [0., 1., 0.],\n",
       "       [0., 1., 0.],\n",
       "       [0., 1., 0.],\n",
       "       [0., 1., 0.],\n",
       "       [0., 1., 0.],\n",
       "       [0., 1., 0.],\n",
       "       [0., 1., 0.],\n",
       "       [0., 1., 0.],\n",
       "       [0., 1., 0.],\n",
       "       [0., 1., 0.],\n",
       "       [0., 1., 0.],\n",
       "       [0., 1., 0.],\n",
       "       [0., 1., 0.],\n",
       "       [0., 0., 1.],\n",
       "       [0., 0., 1.],\n",
       "       [0., 0., 1.],\n",
       "       [0., 0., 1.],\n",
       "       [0., 0., 1.],\n",
       "       [0., 0., 1.],\n",
       "       [0., 0., 1.],\n",
       "       [0., 0., 1.],\n",
       "       [0., 0., 1.],\n",
       "       [0., 0., 1.],\n",
       "       [0., 0., 1.],\n",
       "       [0., 0., 1.],\n",
       "       [0., 0., 1.],\n",
       "       [0., 0., 1.],\n",
       "       [0., 0., 1.],\n",
       "       [0., 0., 1.],\n",
       "       [0., 0., 1.],\n",
       "       [0., 0., 1.],\n",
       "       [0., 0., 1.],\n",
       "       [0., 0., 1.],\n",
       "       [0., 0., 1.],\n",
       "       [0., 0., 1.],\n",
       "       [0., 0., 1.],\n",
       "       [0., 0., 1.],\n",
       "       [0., 0., 1.],\n",
       "       [0., 0., 1.],\n",
       "       [0., 0., 1.],\n",
       "       [0., 0., 1.],\n",
       "       [0., 0., 1.],\n",
       "       [0., 0., 1.],\n",
       "       [0., 0., 1.],\n",
       "       [0., 0., 1.],\n",
       "       [0., 0., 1.],\n",
       "       [0., 0., 1.],\n",
       "       [0., 0., 1.],\n",
       "       [0., 0., 1.],\n",
       "       [0., 0., 1.],\n",
       "       [0., 0., 1.],\n",
       "       [0., 0., 1.],\n",
       "       [0., 0., 1.],\n",
       "       [0., 0., 1.],\n",
       "       [0., 0., 1.],\n",
       "       [0., 0., 1.],\n",
       "       [0., 0., 1.],\n",
       "       [0., 0., 1.],\n",
       "       [0., 0., 1.],\n",
       "       [0., 0., 1.],\n",
       "       [0., 0., 1.]])"
      ]
     },
     "execution_count": 41,
     "metadata": {},
     "output_type": "execute_result"
    }
   ],
   "source": [
    "y=y.reshape(-1,1)\n",
    "\n",
    "onehotencoder = OneHotEncoder(categorical_features=[0])  #Converted  scalar output into vector output where the correct class will be 1 and other will be 0\n",
    "\n",
    "Y= onehotencoder.fit_transform(y).toarray()\n",
    "Y\n",
    " "
   ]
  },
  {
   "cell_type": "code",
   "execution_count": 42,
   "metadata": {},
   "outputs": [
    {
     "data": {
      "text/plain": [
       "array([[ 1.51861254, -0.5622498 ,  0.23205254, ...,  0.25171685,\n",
       "         0.36217728,  1.84791957],\n",
       "       [ 0.24628963, -0.49941338, -0.82799632, ..., -0.29332133,\n",
       "         0.40605066,  1.1134493 ],\n",
       "       [ 0.19687903,  0.02123125,  1.10933436, ...,  0.26901965,\n",
       "         0.31830389,  0.78858745],\n",
       "       ...,\n",
       "       [ 0.33275817,  1.74474449, -0.38935541, ...,  2.22423597,\n",
       "        -1.61212515, -1.48544548],\n",
       "       [ 0.20923168,  0.22769377,  0.01273209, ...,  1.83492299,\n",
       "        -1.56825176, -1.40069891],\n",
       "       [ 1.39508604,  1.58316512,  1.36520822, ...,  1.79166599,\n",
       "        -1.52437837, -1.42894777]])"
      ]
     },
     "execution_count": 42,
     "metadata": {},
     "output_type": "execute_result"
    }
   ],
   "source": [
    "from sklearn.preprocessing import StandardScaler\n",
    "from sklearn.preprocessing import StandardScaler\n",
    "scaler = StandardScaler()\n",
    "X = scaler.fit_transform(X)\n",
    "\n",
    "X"
   ]
  },
  {
   "cell_type": "code",
   "execution_count": 43,
   "metadata": {},
   "outputs": [
    {
     "name": "stdout",
     "output_type": "stream",
     "text": [
      "(142, 12)\n",
      "(142, 3)\n",
      "(36, 12)\n",
      "(36, 3)\n"
     ]
    }
   ],
   "source": [
    "#Transform the data in training and testing\n",
    "#X,Y = shuffle(X,Y,random_state=1)\n",
    "train_x,test_x,train_y,test_y = train_test_split(X,Y,test_size=0.20, random_state=42)\n",
    "\n",
    "#print the shape of the train and test data values\n",
    "print(train_x.shape)\n",
    "print(train_y.shape)\n",
    "print(test_x.shape)\n",
    "print(test_y.shape)\n"
   ]
  },
  {
   "cell_type": "code",
   "execution_count": 44,
   "metadata": {},
   "outputs": [],
   "source": [
    "learning_rate = 0.1\n",
    "training_epochs = 100\n",
    "cost_history = np.empty(shape=[1],dtype=float)"
   ]
  },
  {
   "cell_type": "code",
   "execution_count": 45,
   "metadata": {
    "scrolled": true
   },
   "outputs": [],
   "source": [
    "x = tf.placeholder(tf.float32,[None,12])    # none is for batchsize but we are not dividing the data in batches so that's why we have used none and 12 means number of 12 features are there in our x\n",
    " \n",
    "W = tf.Variable(tf.zeros([12,3]))  #we are giving 0 as the initial value of weight and 12 weights for 3 different classes present in y\n",
    "#tf.zeros([3, 4], tf.int32)  # [[0, 0, 0, 0], [0, 0, 0, 0], [0, 0, 0, 0]]\n",
    "\n",
    " \n",
    "b = tf.Variable(tf.zeros([3]))  #Bias is also initialized as 0.3 different bias values for 3 different classes present in y. We have 3 classes so we will be having 3 different perceptrons. 1 perceptron for 1 output class\n",
    " "
   ]
  },
  {
   "cell_type": "markdown",
   "metadata": {},
   "source": [
    "Example:\n",
    "W= [59,2] 59 is associated with inputs and 2 is associated with outputs as we are having 2 outputs\n"
   ]
  },
  {
   "cell_type": "code",
   "execution_count": 46,
   "metadata": {},
   "outputs": [],
   "source": [
    " \n",
    "#initialize all variables.\n",
    "init = tf.global_variables_initializer()\n"
   ]
  },
  {
   "cell_type": "code",
   "execution_count": 47,
   "metadata": {},
   "outputs": [],
   "source": [
    "#define the cost function\n",
    "y_ = tf.placeholder(tf.float32,[None,3])   # none is for batch size and 3 means we have performed one hot encoding so we have 3 different columns for 3 different classes\n",
    "\n",
    "y = tf.nn.softmax(tf.matmul(x, W)+ b)    #matmul is matrix multiplication function and performed it on x,w.\n"
   ]
  },
  {
   "cell_type": "code",
   "execution_count": 48,
   "metadata": {},
   "outputs": [
    {
     "data": {
      "text/plain": [
       "<tf.Tensor 'Mean_212:0' shape=() dtype=float32>"
      ]
     },
     "execution_count": 48,
     "metadata": {},
     "output_type": "execute_result"
    }
   ],
   "source": [
    "cost_function = tf.reduce_mean(-tf.reduce_sum((y_ * tf.log(y)),reduction_indices=[1]))  # we are calculating the loss or error with cross entropy\n",
    "cost_function"
   ]
  },
  {
   "cell_type": "markdown",
   "metadata": {},
   "source": [
    "passing it to Gradient Descent Optiimizer to minimize the loss which we have just calculated in above cell"
   ]
  },
  {
   "cell_type": "code",
   "execution_count": 49,
   "metadata": {},
   "outputs": [],
   "source": [
    "training_step = tf.train.GradientDescentOptimizer(learning_rate).minimize(cost_function)"
   ]
  },
  {
   "cell_type": "code",
   "execution_count": 50,
   "metadata": {},
   "outputs": [],
   "source": [
    "#initialize the session\n",
    "sess = tf.Session()\n",
    "sess.run(init)\n",
    "mse_history = []  # this list is for storing the mean square error\n"
   ]
  },
  {
   "cell_type": "code",
   "execution_count": 51,
   "metadata": {},
   "outputs": [
    {
     "name": "stdout",
     "output_type": "stream",
     "text": [
      "epoch :  0  -  cost:  0.94974774\n",
      "epoch :  1  -  cost:  0.83556\n",
      "epoch :  2  -  cost:  0.74713844\n",
      "epoch :  3  -  cost:  0.6774491\n",
      "epoch :  4  -  cost:  0.621396\n",
      "epoch :  5  -  cost:  0.5754111\n",
      "epoch :  6  -  cost:  0.53700536\n",
      "epoch :  7  -  cost:  0.5044238\n",
      "epoch :  8  -  cost:  0.47640625\n",
      "epoch :  9  -  cost:  0.45203018\n",
      "epoch :  10  -  cost:  0.43060657\n",
      "epoch :  11  -  cost:  0.4116114\n",
      "epoch :  12  -  cost:  0.39463887\n",
      "epoch :  13  -  cost:  0.37937027\n",
      "epoch :  14  -  cost:  0.3655515\n",
      "epoch :  15  -  cost:  0.35297737\n",
      "epoch :  16  -  cost:  0.34148034\n",
      "epoch :  17  -  cost:  0.3309222\n",
      "epoch :  18  -  cost:  0.32118788\n",
      "epoch :  19  -  cost:  0.31218064\n",
      "epoch :  20  -  cost:  0.3038187\n",
      "epoch :  21  -  cost:  0.2960321\n",
      "epoch :  22  -  cost:  0.2887611\n",
      "epoch :  23  -  cost:  0.2819539\n",
      "epoch :  24  -  cost:  0.27556565\n",
      "epoch :  25  -  cost:  0.26955703\n",
      "epoch :  26  -  cost:  0.2638939\n",
      "epoch :  27  -  cost:  0.25854582\n",
      "epoch :  28  -  cost:  0.25348604\n",
      "epoch :  29  -  cost:  0.24869083\n",
      "epoch :  30  -  cost:  0.24413902\n",
      "epoch :  31  -  cost:  0.23981154\n",
      "epoch :  32  -  cost:  0.23569153\n",
      "epoch :  33  -  cost:  0.23176365\n",
      "epoch :  34  -  cost:  0.2280141\n",
      "epoch :  35  -  cost:  0.22443037\n",
      "epoch :  36  -  cost:  0.22100115\n",
      "epoch :  37  -  cost:  0.21771611\n",
      "epoch :  38  -  cost:  0.21456586\n",
      "epoch :  39  -  cost:  0.21154183\n",
      "epoch :  40  -  cost:  0.20863618\n",
      "epoch :  41  -  cost:  0.20584168\n",
      "epoch :  42  -  cost:  0.20315167\n",
      "epoch :  43  -  cost:  0.2005601\n",
      "epoch :  44  -  cost:  0.19806133\n",
      "epoch :  45  -  cost:  0.19565018\n",
      "epoch :  46  -  cost:  0.19332182\n",
      "epoch :  47  -  cost:  0.19107178\n",
      "epoch :  48  -  cost:  0.18889594\n",
      "epoch :  49  -  cost:  0.18679044\n",
      "epoch :  50  -  cost:  0.18475172\n",
      "epoch :  51  -  cost:  0.18277642\n",
      "epoch :  52  -  cost:  0.18086143\n",
      "epoch :  53  -  cost:  0.17900386\n",
      "epoch :  54  -  cost:  0.17720096\n",
      "epoch :  55  -  cost:  0.1754502\n",
      "epoch :  56  -  cost:  0.17374918\n",
      "epoch :  57  -  cost:  0.17209567\n",
      "epoch :  58  -  cost:  0.17048754\n",
      "epoch :  59  -  cost:  0.16892283\n",
      "epoch :  60  -  cost:  0.16739963\n",
      "epoch :  61  -  cost:  0.16591626\n",
      "epoch :  62  -  cost:  0.16447102\n",
      "epoch :  63  -  cost:  0.1630623\n",
      "epoch :  64  -  cost:  0.1616887\n",
      "epoch :  65  -  cost:  0.16034877\n",
      "epoch :  66  -  cost:  0.1590412\n",
      "epoch :  67  -  cost:  0.15776473\n",
      "epoch :  68  -  cost:  0.15651818\n",
      "epoch :  69  -  cost:  0.15530041\n",
      "epoch :  70  -  cost:  0.1541104\n",
      "epoch :  71  -  cost:  0.15294707\n",
      "epoch :  72  -  cost:  0.15180948\n",
      "epoch :  73  -  cost:  0.15069672\n",
      "epoch :  74  -  cost:  0.14960791\n",
      "epoch :  75  -  cost:  0.14854223\n",
      "epoch :  76  -  cost:  0.14749886\n",
      "epoch :  77  -  cost:  0.14647706\n",
      "epoch :  78  -  cost:  0.1454761\n",
      "epoch :  79  -  cost:  0.14449531\n",
      "epoch :  80  -  cost:  0.143534\n",
      "epoch :  81  -  cost:  0.14259155\n",
      "epoch :  82  -  cost:  0.1416674\n",
      "epoch :  83  -  cost:  0.14076093\n",
      "epoch :  84  -  cost:  0.13987161\n",
      "epoch :  85  -  cost:  0.13899891\n",
      "epoch :  86  -  cost:  0.13814229\n",
      "epoch :  87  -  cost:  0.1373013\n",
      "epoch :  88  -  cost:  0.13647549\n",
      "epoch :  89  -  cost:  0.13566439\n",
      "epoch :  90  -  cost:  0.13486756\n",
      "epoch :  91  -  cost:  0.13408463\n",
      "epoch :  92  -  cost:  0.13331518\n",
      "epoch :  93  -  cost:  0.13255882\n",
      "epoch :  94  -  cost:  0.13181518\n",
      "epoch :  95  -  cost:  0.13108397\n",
      "epoch :  96  -  cost:  0.13036476\n",
      "epoch :  97  -  cost:  0.1296573\n",
      "epoch :  98  -  cost:  0.12896127\n",
      "epoch :  99  -  cost:  0.1282763\n"
     ]
    }
   ],
   "source": [
    "#calculate the cost for each epoch\n",
    "for i in range(100):\n",
    "    sess.run(training_step,feed_dict=({x: train_x, y_: train_y}))\n",
    "    cost = sess.run(cost_function,feed_dict={x: train_x,y_:train_y})\n",
    "    cost_history = np.append(cost_history,cost) #cost history we have created previously and using it here just to store the cost of each epoch\n",
    "\n",
    "    #after above 3 lines weights get updated and once we have updated weights we will evaluate the test data set. \n",
    "\n",
    "    pred_y = sess.run(y, feed_dict={x: test_x})  # y is a linear model which is using softmax function. Once we update the weights we will evaluate it on the test_x\n",
    "    print('epoch : ', i,  ' - ', 'cost: ', cost)  # printing cost or error associated with each epoch\n",
    "    \n",
    "    # we want to calculate the mean square error now\n",
    "    mse = tf.reduce_mean(tf.square(pred_y - test_y))  # test_y is the target output and pred_y is the predicted output\n",
    "    mse_history.append(sess.run(mse))\n",
    "\n",
    "\n"
   ]
  },
  {
   "cell_type": "markdown",
   "metadata": {},
   "source": [
    "error reduced from 50 to 46 "
   ]
  },
  {
   "cell_type": "code",
   "execution_count": 52,
   "metadata": {},
   "outputs": [
    {
     "name": "stdout",
     "output_type": "stream",
     "text": [
      "MSE: [0.18894439940450042, 0.16193733206552777, 0.14045502232825477, 0.12339374088655729, 0.10972975877916465, 0.09865183157047165, 0.0895534762934186, 0.08198837727779074, 0.07562704317017602, 0.0702235307035118, 0.06559168336829736, 0.061588599813637214, 0.05810308534093083, 0.0550475428811419, 0.05235218587799766, 0.049960840732355724, 0.04782788157195735, 0.04591593530783374, 0.044194162870550564, 0.04263691407752348, 0.04122274449047803, 0.03993360033945342, 0.038754199720894444, 0.03767154580963875, 0.036674515827462305, 0.03575356944293411, 0.03490046200815408, 0.0341080588264172, 0.03337014913157798, 0.032681312443393055, 0.03203679795521287, 0.03143242662440209, 0.0308645211145804, 0.03032981793315343, 0.029825422661081583, 0.029348758698862266, 0.0288975325225267, 0.0284696864239212, 0.028063370239097114, 0.02767693069915417, 0.0273088687465707, 0.026957830904314067, 0.026622599230278515, 0.02630205814328606, 0.025995201222089755, 0.025701106188765706, 0.025418936302253472, 0.025147919110491294, 0.02488735866192396, 0.024636603368220607, 0.024395065473415745, 0.024162191630766095, 0.023937490181869574, 0.023720483119121387, 0.02351075118122867, 0.02330789346040038, 0.023111540645450086, 0.022921348053561993, 0.022737000854769488, 0.02255819950603702, 0.022384667740644768, 0.022216151537750237, 0.022052406975362194, 0.02189320962335162, 0.021738348500777677, 0.021587624241321685, 0.02144085455850778, 0.021297862532056212, 0.021158486555867575, 0.021022570120852384, 0.020889971752994577, 0.020760551575670094, 0.020634181803068332, 0.020510742687808038, 0.020390116302527253, 0.02027219180471073, 0.02015687117842868, 0.02004405225043531, 0.019933646250317977, 0.019825563492968837, 0.019719719441166572, 0.019616035154338983, 0.019514439085320873, 0.01941485397251656, 0.019317217240538483, 0.019221459694199878, 0.019127520637461152, 0.019035341856752073, 0.018944866565472205, 0.018856037461860445, 0.01876880654081909, 0.018683127507264526, 0.0185989487932054, 0.01851622677459967, 0.018434915874642122, 0.018354978342421897, 0.018276371463867097, 0.01819906080352138, 0.01812300969697606, 0.01804818128412346]\n"
     ]
    }
   ],
   "source": [
    "#print the final mean square error\n",
    "\n",
    "print(\"MSE:\",mse_history)\n",
    "\n"
   ]
  },
  {
   "cell_type": "code",
   "execution_count": 53,
   "metadata": {},
   "outputs": [
    {
     "data": {
      "image/png": "[encoded data removed]",
      "text/plain": [
       "<Figure size 432x288 with 1 Axes>"
      ]
     },
     "metadata": {
      "needs_background": "light"
     },
     "output_type": "display_data"
    }
   ],
   "source": [
    "plt.plot(mse_history, 'r')\n",
    "plt.show()"
   ]
  },
  {
   "cell_type": "code",
   "execution_count": null,
   "metadata": {},
   "outputs": [],
   "source": []
  }
 ],
 "metadata": {
  "kernelspec": {
   "display_name": "Python 3",
   "language": "python",
   "name": "python3"
  },
  "language_info": {
   "codemirror_mode": {
    "name": "ipython",
    "version": 3
   },
   "file_extension": ".py",
   "mimetype": "text/x-python",
   "name": "python",
   "nbconvert_exporter": "python",
   "pygments_lexer": "ipython3",
   "version": "3.7.3"
  }
 },
 "nbformat": 4,
 "nbformat_minor": 2
}
